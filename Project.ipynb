{
  "nbformat": 4,
  "nbformat_minor": 0,
  "metadata": {
    "colab": {
      "name": "Project.ipynb",
      "provenance": [],
      "toc_visible": true
    },
    "kernelspec": {
      "name": "python3",
      "display_name": "Python 3"
    },
    "accelerator": "GPU"
  },
  "cells": [
    {
      "cell_type": "markdown",
      "metadata": {
        "id": "o3dYt68vNJM6"
      },
      "source": [
        "# MAIS202 Project\n",
        "### Gargi Singh and Jehan Dastoor\n",
        "\n",
        "![To make your day better :)](https://media.gettyimages.com/videos/close-up-baboon-making-noise-on-telephone-video-id712-17?s=640x640)\n"
      ]
    },
    {
      "cell_type": "code",
      "metadata": {
        "id": "l6sN8-_rMc-B",
        "colab": {
          "base_uri": "https://localhost:8080/"
        },
        "outputId": "f950319a-6b63-4ecd-def6-b361a79c0175"
      },
      "source": [
        "!pip install tf-nightly\n",
        "import numpy as np\n",
        "import pandas as pd\n",
        "import tensorflow as tf\n",
        "from tensorflow.keras import datasets, layers, models\n",
        "import matplotlib.pyplot as plt\n",
        "from keras.preprocessing import image\n",
        "from keras.preprocessing.image import ImageDataGenerator\n",
        "from tensorflow.keras.preprocessing import image_dataset_from_directory\n",
        "from tqdm import tqdm"
      ],
      "execution_count": 1,
      "outputs": [
        {
          "output_type": "stream",
          "text": [
            "Requirement already satisfied: tf-nightly in /usr/local/lib/python3.7/dist-packages (2.5.0.dev20210303)\n",
            "Requirement already satisfied: six~=1.15.0 in /usr/local/lib/python3.7/dist-packages (from tf-nightly) (1.15.0)\n",
            "Requirement already satisfied: google-pasta~=0.2 in /usr/local/lib/python3.7/dist-packages (from tf-nightly) (0.2.0)\n",
            "Requirement already satisfied: astunparse~=1.6.3 in /usr/local/lib/python3.7/dist-packages (from tf-nightly) (1.6.3)\n",
            "Requirement already satisfied: typing-extensions~=3.7.4 in /usr/local/lib/python3.7/dist-packages (from tf-nightly) (3.7.4.3)\n",
            "Requirement already satisfied: flatbuffers~=1.12.0 in /usr/local/lib/python3.7/dist-packages (from tf-nightly) (1.12)\n",
            "Requirement already satisfied: wheel~=0.35 in /usr/local/lib/python3.7/dist-packages (from tf-nightly) (0.36.2)\n",
            "Requirement already satisfied: termcolor~=1.1.0 in /usr/local/lib/python3.7/dist-packages (from tf-nightly) (1.1.0)\n",
            "Requirement already satisfied: grpcio~=1.34.0 in /usr/local/lib/python3.7/dist-packages (from tf-nightly) (1.34.1)\n",
            "Requirement already satisfied: tf-estimator-nightly~=2.5.0.dev in /usr/local/lib/python3.7/dist-packages (from tf-nightly) (2.5.0.dev2021030301)\n",
            "Requirement already satisfied: keras-preprocessing~=1.1.2 in /usr/local/lib/python3.7/dist-packages (from tf-nightly) (1.1.2)\n",
            "Requirement already satisfied: wrapt~=1.12.1 in /usr/local/lib/python3.7/dist-packages (from tf-nightly) (1.12.1)\n",
            "Requirement already satisfied: absl-py~=0.10 in /usr/local/lib/python3.7/dist-packages (from tf-nightly) (0.10.0)\n",
            "Requirement already satisfied: protobuf>=3.9.2 in /usr/local/lib/python3.7/dist-packages (from tf-nightly) (3.12.4)\n",
            "Requirement already satisfied: gast==0.4.0 in /usr/local/lib/python3.7/dist-packages (from tf-nightly) (0.4.0)\n",
            "Requirement already satisfied: tb-nightly~=2.5.0.a in /usr/local/lib/python3.7/dist-packages (from tf-nightly) (2.5.0a20210303)\n",
            "Requirement already satisfied: h5py~=3.1.0 in /usr/local/lib/python3.7/dist-packages (from tf-nightly) (3.1.0)\n",
            "Requirement already satisfied: opt-einsum~=3.3.0 in /usr/local/lib/python3.7/dist-packages (from tf-nightly) (3.3.0)\n",
            "Requirement already satisfied: numpy~=1.19.2 in /usr/local/lib/python3.7/dist-packages (from tf-nightly) (1.19.5)\n",
            "Requirement already satisfied: setuptools in /usr/local/lib/python3.7/dist-packages (from protobuf>=3.9.2->tf-nightly) (54.0.0)\n",
            "Requirement already satisfied: google-auth-oauthlib<0.5,>=0.4.1 in /usr/local/lib/python3.7/dist-packages (from tb-nightly~=2.5.0.a->tf-nightly) (0.4.2)\n",
            "Requirement already satisfied: werkzeug>=0.11.15 in /usr/local/lib/python3.7/dist-packages (from tb-nightly~=2.5.0.a->tf-nightly) (1.0.1)\n",
            "Requirement already satisfied: tensorboard-data-server<0.4.0,>=0.3.0 in /usr/local/lib/python3.7/dist-packages (from tb-nightly~=2.5.0.a->tf-nightly) (0.3.0)\n",
            "Requirement already satisfied: google-auth<2,>=1.6.3 in /usr/local/lib/python3.7/dist-packages (from tb-nightly~=2.5.0.a->tf-nightly) (1.27.0)\n",
            "Requirement already satisfied: markdown>=2.6.8 in /usr/local/lib/python3.7/dist-packages (from tb-nightly~=2.5.0.a->tf-nightly) (3.3.4)\n",
            "Requirement already satisfied: requests<3,>=2.21.0 in /usr/local/lib/python3.7/dist-packages (from tb-nightly~=2.5.0.a->tf-nightly) (2.23.0)\n",
            "Requirement already satisfied: tensorboard-plugin-wit>=1.6.0 in /usr/local/lib/python3.7/dist-packages (from tb-nightly~=2.5.0.a->tf-nightly) (1.8.0)\n",
            "Requirement already satisfied: cached-property; python_version < \"3.8\" in /usr/local/lib/python3.7/dist-packages (from h5py~=3.1.0->tf-nightly) (1.5.2)\n",
            "Requirement already satisfied: requests-oauthlib>=0.7.0 in /usr/local/lib/python3.7/dist-packages (from google-auth-oauthlib<0.5,>=0.4.1->tb-nightly~=2.5.0.a->tf-nightly) (1.3.0)\n",
            "Requirement already satisfied: cachetools<5.0,>=2.0.0 in /usr/local/lib/python3.7/dist-packages (from google-auth<2,>=1.6.3->tb-nightly~=2.5.0.a->tf-nightly) (4.2.1)\n",
            "Requirement already satisfied: pyasn1-modules>=0.2.1 in /usr/local/lib/python3.7/dist-packages (from google-auth<2,>=1.6.3->tb-nightly~=2.5.0.a->tf-nightly) (0.2.8)\n",
            "Requirement already satisfied: rsa<5,>=3.1.4; python_version >= \"3.6\" in /usr/local/lib/python3.7/dist-packages (from google-auth<2,>=1.6.3->tb-nightly~=2.5.0.a->tf-nightly) (4.7.2)\n",
            "Requirement already satisfied: importlib-metadata; python_version < \"3.8\" in /usr/local/lib/python3.7/dist-packages (from markdown>=2.6.8->tb-nightly~=2.5.0.a->tf-nightly) (3.7.0)\n",
            "Requirement already satisfied: idna<3,>=2.5 in /usr/local/lib/python3.7/dist-packages (from requests<3,>=2.21.0->tb-nightly~=2.5.0.a->tf-nightly) (2.10)\n",
            "Requirement already satisfied: urllib3!=1.25.0,!=1.25.1,<1.26,>=1.21.1 in /usr/local/lib/python3.7/dist-packages (from requests<3,>=2.21.0->tb-nightly~=2.5.0.a->tf-nightly) (1.24.3)\n",
            "Requirement already satisfied: chardet<4,>=3.0.2 in /usr/local/lib/python3.7/dist-packages (from requests<3,>=2.21.0->tb-nightly~=2.5.0.a->tf-nightly) (3.0.4)\n",
            "Requirement already satisfied: certifi>=2017.4.17 in /usr/local/lib/python3.7/dist-packages (from requests<3,>=2.21.0->tb-nightly~=2.5.0.a->tf-nightly) (2020.12.5)\n",
            "Requirement already satisfied: oauthlib>=3.0.0 in /usr/local/lib/python3.7/dist-packages (from requests-oauthlib>=0.7.0->google-auth-oauthlib<0.5,>=0.4.1->tb-nightly~=2.5.0.a->tf-nightly) (3.1.0)\n",
            "Requirement already satisfied: pyasn1<0.5.0,>=0.4.6 in /usr/local/lib/python3.7/dist-packages (from pyasn1-modules>=0.2.1->google-auth<2,>=1.6.3->tb-nightly~=2.5.0.a->tf-nightly) (0.4.8)\n",
            "Requirement already satisfied: zipp>=0.5 in /usr/local/lib/python3.7/dist-packages (from importlib-metadata; python_version < \"3.8\"->markdown>=2.6.8->tb-nightly~=2.5.0.a->tf-nightly) (3.4.0)\n"
          ],
          "name": "stdout"
        }
      ]
    },
    {
      "cell_type": "markdown",
      "metadata": {
        "id": "yRH2BszSMypU"
      },
      "source": [
        "The idea of the project is to categorize skin lesions based on the kind of cancer they are. The project will consist of a few major components:\n",
        "\n",
        "1) Importing and pre-processing the images by transformation (to increase the size of the dataset).\n",
        "\n",
        "2) Creating our model, i.e. deciding our layers that we are going to use (possibly based off an already built tensorflow model).\n",
        "\n",
        "3) Training the model.\n",
        "\n",
        "4) Testing the model using our test data set."
      ]
    },
    {
      "cell_type": "markdown",
      "metadata": {
        "id": "60Em2HKOPohX"
      },
      "source": [
        "##1. Importing and pre-processing the data"
      ]
    },
    {
      "cell_type": "code",
      "metadata": {
        "colab": {
          "base_uri": "https://localhost:8080/"
        },
        "id": "F6gGgYSweLcO",
        "outputId": "6ba9e6b5-5ef1-40cf-9dee-dc4f55b4d2ce"
      },
      "source": [
        "#Importing our data\n",
        "from keras.models import Sequential\n",
        "#Import from keras_preprocessing not from keras.preprocessing\n",
        "from keras_preprocessing.image import ImageDataGenerator\n",
        "from keras.layers import Dense, Activation, Flatten, Dropout, BatchNormalization\n",
        "from keras.layers import Conv2D, MaxPooling2D\n",
        "from keras import regularizers, optimizers\n",
        "\n",
        "#First, finding what the right diagnosis type would be for the different cancer types\n",
        "traindf = pd.read_csv(\"/content/drive/MyDrive/MAIS/ISIC2018_Task3_Training_LesionGroupings.csv\")\n",
        "\n",
        "def append_ext(fn):\n",
        "    return fn+\".jpg\"\n",
        "\n",
        "traindf[\"image\"]=traindf[\"image\"].apply(append_ext)\n",
        "datagen = ImageDataGenerator(rescale=1./255.,\n",
        "                             validation_split=0.2)\n",
        "\n",
        "train_generator = datagen.flow_from_dataframe(dataframe=traindf,\n",
        "                                              directory=\"/content/drive/MyDrive/MAIS/ISIC2018_Task3_Training_Input\",\n",
        "                                              x_col=\"image\",\n",
        "                                              y_col=\"diagnosis_confirm_type\",\n",
        "                                              subset=\"training\",\n",
        "                                              batch_size=32,\n",
        "                                              color_mode=\"rgb\",\n",
        "                                              shuffle=True,\n",
        "                                              class_mode=\"categorical\",\n",
        "                                              target_size=(64,64))\n",
        "\n",
        "valid_generator = datagen.flow_from_dataframe(dataframe=traindf,\n",
        "                                              directory=\"/content/drive/MyDrive/MAIS/ISIC2018_Task3_Training_Input\",\n",
        "                                              x_col=\"image\",\n",
        "                                              y_col=\"diagnosis_confirm_type\",\n",
        "                                              subset=\"validation\",\n",
        "                                              batch_size=32,\n",
        "                                              color_mode=\"rgb\",\n",
        "                                              shuffle=True,\n",
        "                                              class_mode=\"categorical\",\n",
        "                                              target_size=(64,64))"
      ],
      "execution_count": 2,
      "outputs": [
        {
          "output_type": "stream",
          "text": [
            "Found 8012 validated image filenames belonging to 4 classes.\n",
            "Found 2003 validated image filenames belonging to 4 classes.\n"
          ],
          "name": "stdout"
        }
      ]
    },
    {
      "cell_type": "code",
      "metadata": {
        "colab": {
          "base_uri": "https://localhost:8080/"
        },
        "id": "KBeu6byCP8JF",
        "outputId": "5cdad46d-248d-4d7d-80b3-b92403ae2539"
      },
      "source": [
        "#Finding what the actual cancer type is from the categorical data\n",
        "traindfcanc = pd.read_csv(\"/content/drive/MyDrive/MAIS/ISIC2018_Task3_Training_GroundTruth/ISIC2018_Task3_Training_GroundTruth.csv\")\n",
        "traindfcanc[\"image\"]=traindfcanc[\"image\"].apply(append_ext)\n",
        "\n",
        "column_names = traindfcanc.columns.to_list()[1:]\n",
        "\n",
        "datagen_canc = ImageDataGenerator(rescale=1./255.,\n",
        "                             validation_split=0.2)\n",
        "\n",
        "train_generator_canc = datagen_canc.flow_from_dataframe(dataframe=traindfcanc,\n",
        "                                              directory=\"/content/drive/MyDrive/MAIS/ISIC2018_Task3_Training_Input\",\n",
        "                                              x_col=\"image\",\n",
        "                                              y_col=list(column_names),\n",
        "                                              subset=\"training\",\n",
        "                                              batch_size=32,\n",
        "                                              color_mode=\"rgb\",\n",
        "                                              shuffle=True,\n",
        "                                              class_mode=\"raw\",\n",
        "                                              target_size=(64,64))\n",
        "\n",
        "valid_generator_canc = datagen_canc.flow_from_dataframe(dataframe=traindfcanc,\n",
        "                                              directory=\"/content/drive/MyDrive/MAIS/ISIC2018_Task3_Training_Input\",\n",
        "                                              x_col=\"image\",\n",
        "                                              y_col=list(column_names),\n",
        "                                              subset=\"validation\",\n",
        "                                              batch_size=32,\n",
        "                                              color_mode=\"rgb\",\n",
        "                                              shuffle=True,\n",
        "                                              class_mode=\"raw\",\n",
        "                                              target_size=(64,64))"
      ],
      "execution_count": 37,
      "outputs": [
        {
          "output_type": "stream",
          "text": [
            "Found 8012 validated image filenames.\n",
            "Found 2003 validated image filenames.\n"
          ],
          "name": "stdout"
        }
      ]
    },
    {
      "cell_type": "markdown",
      "metadata": {
        "id": "YqS29cZz_ni8"
      },
      "source": [
        "##2.a) Creating the Model for Diagnosis Type"
      ]
    },
    {
      "cell_type": "code",
      "metadata": {
        "id": "z_CwTCFdQnCp",
        "colab": {
          "base_uri": "https://localhost:8080/"
        },
        "outputId": "f7b8932a-bd32-4a09-b0bc-7782b755dce6"
      },
      "source": [
        "#Building the model\n",
        "model = Sequential()\n",
        "model.add(Conv2D(32, (3, 3), activation='relu', input_shape=(64, 64, 3)))\n",
        "model.add(MaxPooling2D((2, 2)))\n",
        "model.add(Conv2D(64, (3, 3), activation='relu'))\n",
        "model.add(MaxPooling2D((2, 2)))\n",
        "model.add(Conv2D(64, (3, 3), activation='relu'))\n",
        "\n",
        "model.add(Flatten())\n",
        "model.add(Dense(64, activation='relu'))\n",
        "model.add(Dense(4))\n",
        "\n",
        "model.compile(optimizer='adam',\n",
        "              loss=tf.keras.losses.CategoricalCrossentropy(from_logits=True),\n",
        "              metrics=['categorical_accuracy'])\n",
        "model.summary()"
      ],
      "execution_count": 3,
      "outputs": [
        {
          "output_type": "stream",
          "text": [
            "Model: \"sequential\"\n",
            "_________________________________________________________________\n",
            "Layer (type)                 Output Shape              Param #   \n",
            "=================================================================\n",
            "conv2d (Conv2D)              (None, 62, 62, 32)        896       \n",
            "_________________________________________________________________\n",
            "max_pooling2d (MaxPooling2D) (None, 31, 31, 32)        0         \n",
            "_________________________________________________________________\n",
            "conv2d_1 (Conv2D)            (None, 29, 29, 64)        18496     \n",
            "_________________________________________________________________\n",
            "max_pooling2d_1 (MaxPooling2 (None, 14, 14, 64)        0         \n",
            "_________________________________________________________________\n",
            "conv2d_2 (Conv2D)            (None, 12, 12, 64)        36928     \n",
            "_________________________________________________________________\n",
            "flatten (Flatten)            (None, 9216)              0         \n",
            "_________________________________________________________________\n",
            "dense (Dense)                (None, 64)                589888    \n",
            "_________________________________________________________________\n",
            "dense_1 (Dense)              (None, 4)                 260       \n",
            "=================================================================\n",
            "Total params: 646,468\n",
            "Trainable params: 646,468\n",
            "Non-trainable params: 0\n",
            "_________________________________________________________________\n"
          ],
          "name": "stdout"
        }
      ]
    },
    {
      "cell_type": "markdown",
      "metadata": {
        "id": "HKPIyw5TAKdW"
      },
      "source": [
        "##3.a) Training for Diagnosis Type"
      ]
    },
    {
      "cell_type": "code",
      "metadata": {
        "colab": {
          "base_uri": "https://localhost:8080/"
        },
        "id": "v3Qua69HaJrN",
        "outputId": "65f52eec-af51-4510-83f2-73c5cb9061ff"
      },
      "source": [
        "#Running the Model\n",
        "STEP_SIZE_TRAIN=train_generator.n//train_generator.batch_size\n",
        "STEP_SIZE_VALID=valid_generator.n//valid_generator.batch_size\n",
        "\n",
        "model.fit_generator(generator=train_generator,\n",
        "        steps_per_epoch=STEP_SIZE_TRAIN,\n",
        "        epochs=10,\n",
        "        validation_data=valid_generator,\n",
        "        validation_steps=STEP_SIZE_VALID,\n",
        "        verbose=1)"
      ],
      "execution_count": 4,
      "outputs": [
        {
          "output_type": "stream",
          "text": [
            "/usr/local/lib/python3.7/dist-packages/tensorflow/python/keras/engine/training.py:1909: UserWarning: `Model.fit_generator` is deprecated and will be removed in a future version. Please use `Model.fit`, which supports generators.\n",
            "  warnings.warn('`Model.fit_generator` is deprecated and '\n"
          ],
          "name": "stderr"
        },
        {
          "output_type": "stream",
          "text": [
            "Epoch 1/10\n",
            "250/250 [==============================] - 2265s 9s/step - loss: 0.6497 - categorical_accuracy: 0.7477 - val_loss: 0.4069 - val_categorical_accuracy: 0.8821\n",
            "Epoch 2/10\n",
            "250/250 [==============================] - 93s 373ms/step - loss: 0.4167 - categorical_accuracy: 0.8682 - val_loss: 0.3807 - val_categorical_accuracy: 0.8841\n",
            "Epoch 3/10\n",
            "250/250 [==============================] - 92s 370ms/step - loss: 0.3995 - categorical_accuracy: 0.8683 - val_loss: 0.3565 - val_categorical_accuracy: 0.8886\n",
            "Epoch 4/10\n",
            "250/250 [==============================] - 92s 367ms/step - loss: 0.3640 - categorical_accuracy: 0.8804 - val_loss: 0.3541 - val_categorical_accuracy: 0.8851\n",
            "Epoch 5/10\n",
            "250/250 [==============================] - 92s 369ms/step - loss: 0.3738 - categorical_accuracy: 0.8712 - val_loss: 0.3468 - val_categorical_accuracy: 0.8972\n",
            "Epoch 6/10\n",
            "250/250 [==============================] - 92s 370ms/step - loss: 0.3332 - categorical_accuracy: 0.8822 - val_loss: 0.3592 - val_categorical_accuracy: 0.8916\n",
            "Epoch 7/10\n",
            "250/250 [==============================] - 92s 368ms/step - loss: 0.3407 - categorical_accuracy: 0.8812 - val_loss: 0.3693 - val_categorical_accuracy: 0.8916\n",
            "Epoch 8/10\n",
            "250/250 [==============================] - 92s 369ms/step - loss: 0.3191 - categorical_accuracy: 0.8881 - val_loss: 0.3399 - val_categorical_accuracy: 0.8921\n",
            "Epoch 9/10\n",
            "250/250 [==============================] - 92s 368ms/step - loss: 0.3287 - categorical_accuracy: 0.8846 - val_loss: 0.3297 - val_categorical_accuracy: 0.8982\n",
            "Epoch 10/10\n",
            "250/250 [==============================] - 92s 368ms/step - loss: 0.2853 - categorical_accuracy: 0.8965 - val_loss: 0.3690 - val_categorical_accuracy: 0.8906\n"
          ],
          "name": "stdout"
        },
        {
          "output_type": "execute_result",
          "data": {
            "text/plain": [
              "<tensorflow.python.keras.callbacks.History at 0x7f8580132f50>"
            ]
          },
          "metadata": {
            "tags": []
          },
          "execution_count": 4
        }
      ]
    },
    {
      "cell_type": "code",
      "metadata": {
        "id": "ZpHHWch7AKLn"
      },
      "source": [
        "#Saving our model\n",
        "model.save(\"test_model.h5\")"
      ],
      "execution_count": 6,
      "outputs": []
    },
    {
      "cell_type": "code",
      "metadata": {
        "colab": {
          "base_uri": "https://localhost:8080/"
        },
        "id": "4QKltzi9LaLh",
        "outputId": "ba965c3b-8677-4492-acbc-ece30988776c"
      },
      "source": [
        "#Evaluating our model\n",
        "model.evaluate_generator(train_generator,verbose=1)"
      ],
      "execution_count": 8,
      "outputs": [
        {
          "output_type": "stream",
          "text": [
            "/usr/local/lib/python3.7/dist-packages/tensorflow/python/keras/engine/training.py:1942: UserWarning: `Model.evaluate_generator` is deprecated and will be removed in a future version. Please use `Model.evaluate`, which supports generators.\n",
            "  warnings.warn('`Model.evaluate_generator` is deprecated and '\n"
          ],
          "name": "stderr"
        },
        {
          "output_type": "stream",
          "text": [
            "251/251 [==============================] - 74s 295ms/step - loss: 0.3451 - categorical_accuracy: 0.8823\n"
          ],
          "name": "stdout"
        },
        {
          "output_type": "execute_result",
          "data": {
            "text/plain": [
              "[0.3450883626937866, 0.8823015689849854]"
            ]
          },
          "metadata": {
            "tags": []
          },
          "execution_count": 8
        }
      ]
    },
    {
      "cell_type": "markdown",
      "metadata": {
        "id": "rCIsKm2DARYc"
      },
      "source": [
        "##2.b) Creating the Model for Cancer Type"
      ]
    },
    {
      "cell_type": "code",
      "metadata": {
        "colab": {
          "base_uri": "https://localhost:8080/"
        },
        "id": "WbnxSFU_VRM2",
        "outputId": "9745bfea-0f45-498a-d660-d2de4e58cfbc"
      },
      "source": [
        "#Building the model\n",
        "model_canc = Sequential()\n",
        "model_canc.add(Conv2D(32, (3, 3), activation='relu', input_shape=(64, 64, 3)))\n",
        "model_canc.add(MaxPooling2D((2, 2)))\n",
        "model_canc.add(Conv2D(64, (3, 3), activation='relu'))\n",
        "model_canc.add(MaxPooling2D((2, 2)))\n",
        "model_canc.add(Conv2D(64, (3, 3), activation='relu'))\n",
        "\n",
        "model_canc.add(Flatten())\n",
        "model_canc.add(Dense(64, activation='relu'))\n",
        "model_canc.add(Dense(7))\n",
        "\n",
        "model_canc.compile(optimizer='adam',\n",
        "              loss=tf.keras.losses.CategoricalCrossentropy(from_logits=True),\n",
        "              metrics=['categorical_accuracy'])\n",
        "model_canc.summary()"
      ],
      "execution_count": 38,
      "outputs": [
        {
          "output_type": "stream",
          "text": [
            "Model: \"sequential_3\"\n",
            "_________________________________________________________________\n",
            "Layer (type)                 Output Shape              Param #   \n",
            "=================================================================\n",
            "conv2d_9 (Conv2D)            (None, 62, 62, 32)        896       \n",
            "_________________________________________________________________\n",
            "max_pooling2d_6 (MaxPooling2 (None, 31, 31, 32)        0         \n",
            "_________________________________________________________________\n",
            "conv2d_10 (Conv2D)           (None, 29, 29, 64)        18496     \n",
            "_________________________________________________________________\n",
            "max_pooling2d_7 (MaxPooling2 (None, 14, 14, 64)        0         \n",
            "_________________________________________________________________\n",
            "conv2d_11 (Conv2D)           (None, 12, 12, 64)        36928     \n",
            "_________________________________________________________________\n",
            "flatten_3 (Flatten)          (None, 9216)              0         \n",
            "_________________________________________________________________\n",
            "dense_6 (Dense)              (None, 64)                589888    \n",
            "_________________________________________________________________\n",
            "dense_7 (Dense)              (None, 7)                 455       \n",
            "=================================================================\n",
            "Total params: 646,663\n",
            "Trainable params: 646,663\n",
            "Non-trainable params: 0\n",
            "_________________________________________________________________\n"
          ],
          "name": "stdout"
        }
      ]
    },
    {
      "cell_type": "markdown",
      "metadata": {
        "id": "gC1QhGJ6AdDz"
      },
      "source": [
        "##3.b) Training the Model for Cancer Type"
      ]
    },
    {
      "cell_type": "code",
      "metadata": {
        "colab": {
          "base_uri": "https://localhost:8080/"
        },
        "id": "MhfBpp3DaT2U",
        "outputId": "be57e7fd-e41e-487b-e08f-44bd34e52b35"
      },
      "source": [
        "#Running the Model\n",
        "STEP_SIZE_TRAIN_CANC=train_generator_canc.n//train_generator_canc.batch_size\n",
        "STEP_SIZE_VALID_CANC=valid_generator_canc.n//valid_generator_canc.batch_size\n",
        "\n",
        "cancer = model_canc.fit_generator(generator=train_generator_canc,\n",
        "        steps_per_epoch=STEP_SIZE_TRAIN_CANC,\n",
        "        epochs=10,\n",
        "        validation_data=valid_generator_canc,\n",
        "        validation_steps=STEP_SIZE_VALID_CANC,\n",
        "        verbose=1)"
      ],
      "execution_count": 39,
      "outputs": [
        {
          "output_type": "stream",
          "text": [
            "/usr/local/lib/python3.7/dist-packages/tensorflow/python/keras/engine/training.py:1909: UserWarning: `Model.fit_generator` is deprecated and will be removed in a future version. Please use `Model.fit`, which supports generators.\n",
            "  warnings.warn('`Model.fit_generator` is deprecated and '\n"
          ],
          "name": "stderr"
        },
        {
          "output_type": "stream",
          "text": [
            "Epoch 1/10\n",
            "250/250 [==============================] - 92s 367ms/step - loss: 1.0879 - categorical_accuracy: 0.6712 - val_loss: 0.9237 - val_categorical_accuracy: 0.6870\n",
            "Epoch 2/10\n",
            "250/250 [==============================] - 91s 364ms/step - loss: 0.9097 - categorical_accuracy: 0.6755 - val_loss: 0.8601 - val_categorical_accuracy: 0.6991\n",
            "Epoch 3/10\n",
            "250/250 [==============================] - 91s 365ms/step - loss: 0.8802 - categorical_accuracy: 0.6800 - val_loss: 0.8575 - val_categorical_accuracy: 0.7228\n",
            "Epoch 4/10\n",
            "250/250 [==============================] - 91s 366ms/step - loss: 0.8121 - categorical_accuracy: 0.6984 - val_loss: 0.7716 - val_categorical_accuracy: 0.7218\n",
            "Epoch 5/10\n",
            "250/250 [==============================] - 91s 365ms/step - loss: 0.7961 - categorical_accuracy: 0.7090 - val_loss: 0.7317 - val_categorical_accuracy: 0.7394\n",
            "Epoch 6/10\n",
            "250/250 [==============================] - 91s 365ms/step - loss: 0.7357 - categorical_accuracy: 0.7226 - val_loss: 0.7780 - val_categorical_accuracy: 0.7278\n",
            "Epoch 7/10\n",
            "250/250 [==============================] - 91s 365ms/step - loss: 0.6980 - categorical_accuracy: 0.7380 - val_loss: 0.7444 - val_categorical_accuracy: 0.7339\n",
            "Epoch 8/10\n",
            "250/250 [==============================] - 91s 365ms/step - loss: 0.6392 - categorical_accuracy: 0.7599 - val_loss: 0.6847 - val_categorical_accuracy: 0.7460\n",
            "Epoch 9/10\n",
            "250/250 [==============================] - 91s 366ms/step - loss: 0.6128 - categorical_accuracy: 0.7669 - val_loss: 0.6804 - val_categorical_accuracy: 0.7495\n",
            "Epoch 10/10\n",
            "250/250 [==============================] - 91s 365ms/step - loss: 0.5800 - categorical_accuracy: 0.7879 - val_loss: 0.6841 - val_categorical_accuracy: 0.7591\n"
          ],
          "name": "stdout"
        }
      ]
    },
    {
      "cell_type": "code",
      "metadata": {
        "id": "W1WOAdAbfgSS"
      },
      "source": [
        "#Saving our model\n",
        "model_canc.save(\"test_model_canc.h5\")"
      ],
      "execution_count": 40,
      "outputs": []
    },
    {
      "cell_type": "code",
      "metadata": {
        "colab": {
          "base_uri": "https://localhost:8080/"
        },
        "id": "q_MPuoJnfjCn",
        "outputId": "90465441-e736-4507-eda3-7d241046d34f"
      },
      "source": [
        "#Evaluating our model\n",
        "model_canc.evaluate_generator(train_generator_canc,verbose=1)"
      ],
      "execution_count": 41,
      "outputs": [
        {
          "output_type": "stream",
          "text": [
            "/usr/local/lib/python3.7/dist-packages/tensorflow/python/keras/engine/training.py:1942: UserWarning: `Model.evaluate_generator` is deprecated and will be removed in a future version. Please use `Model.evaluate`, which supports generators.\n",
            "  warnings.warn('`Model.evaluate_generator` is deprecated and '\n"
          ],
          "name": "stderr"
        },
        {
          "output_type": "stream",
          "text": [
            "251/251 [==============================] - 73s 291ms/step - loss: 0.4912 - categorical_accuracy: 0.8201\n"
          ],
          "name": "stdout"
        },
        {
          "output_type": "execute_result",
          "data": {
            "text/plain": [
              "[0.4911623001098633, 0.820144772529602]"
            ]
          },
          "metadata": {
            "tags": []
          },
          "execution_count": 41
        }
      ]
    },
    {
      "cell_type": "markdown",
      "metadata": {
        "id": "yMB4YNSlAlM6"
      },
      "source": [
        "###Plotting the results of our cancer type training so we can visualise our progress better."
      ]
    },
    {
      "cell_type": "code",
      "metadata": {
        "colab": {
          "base_uri": "https://localhost:8080/",
          "height": 462
        },
        "id": "D441xE95max3",
        "outputId": "9e35d192-eb49-4fde-f2e3-2cde5e6a70bc"
      },
      "source": [
        "#Creating plots\n",
        "fig, (ax1, ax2) = plt.subplots(1, 2, figsize=(14,7))\n",
        "\n",
        "ax1.plot(cancer.history['loss'], label='Training Data')\n",
        "ax1.plot(cancer.history['val_loss'], label='Validation Data)')\n",
        "ax1.set_title('Loss Function', fontsize=14)\n",
        "ax1.set_ylabel('CategoricalCrossEntropy Loss', fontsize=12)\n",
        "ax1.set_xlabel('No. epoch', fontsize=12)\n",
        "ax1.legend(loc=\"upper right\", fontsize=11)\n",
        "\n",
        "ax2.plot([100*i for i in cancer.history['categorical_accuracy']], label='Training Data')\n",
        "ax2.plot([100*i for i in cancer.history['val_categorical_accuracy']], label='Validation Data)')\n",
        "ax2.set_title('Categorical Accuracy', fontsize=14)\n",
        "ax2.set_ylabel('Accuracy (%)', fontsize=12)\n",
        "ax2.set_xlabel('No. epoch', fontsize=12)\n",
        "ax2.legend(loc=\"upper left\", fontsize=11)\n",
        "\n",
        "plt.savefig(\"Model_plots.png\", bbox_inches=\"tight\", dpi=200)\n",
        "plt.show()"
      ],
      "execution_count": 60,
      "outputs": [
        {
          "output_type": "display_data",
          "data": {
            "image/png": "[encoded data removed]",
            "text/plain": [
              "<Figure size 1008x504 with 2 Axes>"
            ]
          },
          "metadata": {
            "tags": [],
            "needs_background": "light"
          }
        }
      ]
    }
  ]
}