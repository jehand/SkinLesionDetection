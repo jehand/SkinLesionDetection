{
  "nbformat": 4,
  "nbformat_minor": 0,
  "metadata": {
    "colab": {
      "name": "Project.ipynb",
      "provenance": [],
      "collapsed_sections": [],
      "toc_visible": true
    },
    "kernelspec": {
      "name": "python3",
      "display_name": "Python 3"
    },
    "accelerator": "GPU"
  },
  "cells": [
    {
      "cell_type": "markdown",
      "metadata": {
        "id": "o3dYt68vNJM6"
      },
      "source": [
        "# MAIS202 Project\n",
        "### Gargi Singh and Jehan Dastoor\n",
        "\n",
        "![To make your day better :)](https://media.gettyimages.com/videos/close-up-baboon-making-noise-on-telephone-video-id712-17?s=640x640)\n"
      ]
    },
    {
      "cell_type": "code",
      "metadata": {
        "id": "l6sN8-_rMc-B"
      },
      "source": [
        "import numpy as np\n",
        "import pandas as pd\n",
        "import matplotlib.pyplot as plt\n",
        "\n",
        "import tensorflow as tf\n",
        "from tensorflow.keras import datasets, layers, models\n",
        "from keras.preprocessing import image\n",
        "from keras_preprocessing.image import ImageDataGenerator #check underscore or not\n",
        "from tensorflow.keras.preprocessing import image_dataset_from_directory\n",
        "from keras.callbacks import Callback, ModelCheckpoint, ReduceLROnPlateau, EarlyStopping\n",
        "\n",
        "from keras.models import Sequential\n",
        "from keras.layers import Dense, Activation, Flatten, Dropout, BatchNormalization\n",
        "from keras.layers import Conv2D, MaxPooling2D, GlobalAveragePooling2D\n",
        "from keras import regularizers, optimizers\n",
        "from keras.optimizers import Adam"
      ],
      "execution_count": null,
      "outputs": []
    },
    {
      "cell_type": "markdown",
      "metadata": {
        "id": "yRH2BszSMypU"
      },
      "source": [
        "The idea of the project is to categorize skin lesions based on the kind of cancer they are. The project will consist of a few major components:\n",
        "\n",
        "1) Importing and pre-processing the images by transformation (to increase the size of the dataset).\n",
        "\n",
        "2) Creating our model, i.e. deciding our layers that we are going to use (possibly based off an already built tensorflow model).\n",
        "\n",
        "3) Training the model.\n",
        "\n",
        "4) Testing the model using our test data set."
      ]
    },
    {
      "cell_type": "markdown",
      "metadata": {
        "id": "60Em2HKOPohX"
      },
      "source": [
        "##1. Importing and pre-processing the data"
      ]
    },
    {
      "cell_type": "code",
      "metadata": {
        "colab": {
          "base_uri": "https://localhost:8080/"
        },
        "id": "F6gGgYSweLcO",
        "outputId": "69bc53cd-7c60-4b34-80fb-225894a99366"
      },
      "source": [
        "#Importing our data\n",
        "\n",
        "#First, finding what the right diagnosis type would be for the different cancer types\n",
        "traindfdiagnosis = pd.read_csv(\"/content/drive/MyDrive/MAIS/ISIC2018_Task3_Training_LesionGroupings.csv\")\n",
        "IMG_SIZE = 64\n",
        "\n",
        "def append_ext(fn):\n",
        "    return fn+\".jpg\"\n",
        "\n",
        "traindfdiagnosis[\"image\"]=traindfdiagnosis[\"image\"].apply(append_ext)\n",
        "datagen = ImageDataGenerator(rescale=1./255.,\n",
        "                             validation_split=0.2, \n",
        "                             rotation_range=30,\n",
        "                             width_shift_range=0.15,\n",
        "                             height_shift_range=0.15,\n",
        "                             shear_range=0.1,\n",
        "                             zoom_range=0.2,\n",
        "                             horizontal_flip=True)\n",
        "\n",
        "datagen_valid = ImageDataGenerator(rescale=1./255.,\n",
        "                             validation_split=0.2)\n",
        "\n",
        "train_generator_diagnosis = datagen.flow_from_dataframe(dataframe=traindfdiagnosis,\n",
        "                                              directory=\"/content/drive/MyDrive/MAIS/ISIC2018_Task3_Training_Input\",\n",
        "                                              x_col=\"image\",\n",
        "                                              y_col=\"diagnosis_confirm_type\",\n",
        "                                              subset=\"training\",\n",
        "                                              batch_size=32,\n",
        "                                              color_mode=\"rgb\",\n",
        "                                              shuffle=False,\n",
        "                                              class_mode=\"categorical\",\n",
        "                                              target_size=(IMG_SIZE,IMG_SIZE))\n",
        "\n",
        "valid_generator_diagnosis = datagen_valid.flow_from_dataframe(dataframe=traindfdiagnosis,\n",
        "                                              directory=\"/content/drive/MyDrive/MAIS/ISIC2018_Task3_Training_Input\",\n",
        "                                              x_col=\"image\",\n",
        "                                              y_col=\"diagnosis_confirm_type\",\n",
        "                                              subset=\"validation\",\n",
        "                                              batch_size=32,\n",
        "                                              color_mode=\"rgb\",\n",
        "                                              shuffle=False,\n",
        "                                              class_mode=\"categorical\",\n",
        "                                              target_size=(IMG_SIZE,IMG_SIZE))\n"
      ],
      "execution_count": null,
      "outputs": [
        {
          "output_type": "stream",
          "text": [
            "Found 8012 validated image filenames belonging to 4 classes.\n",
            "Found 2003 validated image filenames belonging to 4 classes.\n"
          ],
          "name": "stdout"
        }
      ]
    },
    {
      "cell_type": "code",
      "metadata": {
        "colab": {
          "base_uri": "https://localhost:8080/"
        },
        "id": "KBeu6byCP8JF",
        "outputId": "fdbc56c2-22ca-44a4-fe71-1dba864c697b"
      },
      "source": [
        "#Finding what the actual cancer type is from the categorical data\n",
        "traindfcanc = pd.read_csv(\"/content/drive/MyDrive/MAIS/ISIC2018_Task3_Training_GroundTruth/ISIC2018_Task3_Training_GroundTruth.csv\")\n",
        "traindfcanc[\"image\"]=traindfcanc[\"image\"].apply(append_ext)\n",
        "\n",
        "column_names = traindfcanc.columns.to_list()[1:]\n",
        "\n",
        "datagen_canc = ImageDataGenerator(rescale=1./255.,\n",
        "                             validation_split=0.2,\n",
        "                             rotation_range=30,\n",
        "                             width_shift_range=0.15,\n",
        "                             height_shift_range=0.15,\n",
        "                             #shear_range=0.1,\n",
        "                             zoom_range=0.1,\n",
        "                             horizontal_flip=True)\n",
        "\n",
        "datagen_canc_valid = ImageDataGenerator(rescale=1./255.,\n",
        "                             validation_split=0.2)\n",
        "\n",
        "train_generator_canc = datagen_canc.flow_from_dataframe(dataframe=traindfcanc,\n",
        "                                              directory=\"/content/drive/MyDrive/MAIS/ISIC2018_Task3_Training_Input\",\n",
        "                                              x_col=\"image\",\n",
        "                                              y_col=list(column_names),\n",
        "                                              subset=\"training\",\n",
        "                                              batch_size=32,\n",
        "                                              color_mode=\"rgb\",\n",
        "                                              shuffle=False,\n",
        "                                              class_mode=\"raw\",\n",
        "                                              target_size=(IMG_SIZE,IMG_SIZE))\n",
        "\n",
        "valid_generator_canc = datagen_canc_valid.flow_from_dataframe(dataframe=traindfcanc,\n",
        "                                              directory=\"/content/drive/MyDrive/MAIS/ISIC2018_Task3_Training_Input\",\n",
        "                                              x_col=\"image\",\n",
        "                                              y_col=list(column_names),\n",
        "                                              subset=\"validation\",\n",
        "                                              batch_size=32,\n",
        "                                              color_mode=\"rgb\",\n",
        "                                              shuffle=False,\n",
        "                                              class_mode=\"raw\",\n",
        "                                              target_size=(IMG_SIZE,IMG_SIZE))"
      ],
      "execution_count": null,
      "outputs": [
        {
          "output_type": "stream",
          "text": [
            "Found 8012 validated image filenames.\n",
            "Found 2003 validated image filenames.\n"
          ],
          "name": "stdout"
        }
      ]
    },
    {
      "cell_type": "markdown",
      "metadata": {
        "id": "YqS29cZz_ni8"
      },
      "source": [
        "##2.a) Creating the Model for Diagnosis Type"
      ]
    },
    {
      "cell_type": "code",
      "metadata": {
        "id": "8dIToYj9rEWN",
        "colab": {
          "base_uri": "https://localhost:8080/"
        },
        "outputId": "b9662a78-6f6e-49a7-ee69-be13537f770f"
      },
      "source": [
        "#The pre-trained model we are going to use for both tasks is DenseNet201 \n",
        "\n",
        "base_model = tf.keras.applications.ResNet50V2(input_shape=(IMG_SIZE,IMG_SIZE,3),\n",
        "                                               include_top=False,\n",
        "                                               weights='imagenet')\n",
        "\n",
        "base_model.trainable = False #so that we are not retraining the base"
      ],
      "execution_count": null,
      "outputs": [
        {
          "output_type": "stream",
          "text": [
            "Downloading data from https://storage.googleapis.com/tensorflow/keras-applications/resnet/resnet50v2_weights_tf_dim_ordering_tf_kernels_notop.h5\n",
            "94674944/94668760 [==============================] - 3s 0us/step\n"
          ],
          "name": "stdout"
        }
      ]
    },
    {
      "cell_type": "code",
      "metadata": {
        "id": "z_CwTCFdQnCp",
        "colab": {
          "base_uri": "https://localhost:8080/"
        },
        "outputId": "7413cdf5-c028-4bf1-c39e-e0b6f3f66429"
      },
      "source": [
        "#Whether we want to use the pre-trained model or not\n",
        "pre_trained = False\n",
        "\n",
        "#Building the model\n",
        "model = Sequential()\n",
        "if pre_trained:\n",
        "    model.add(base_model)\n",
        "    model.add(GlobalAveragePooling2D())\n",
        "    model.add(Dropout(0.5)) #to reduce overfitting\n",
        "    model.add(BatchNormalization())\n",
        "else:\n",
        "    model.add(Conv2D(32, (3, 3), activation='relu', input_shape=(IMG_SIZE, IMG_SIZE, 3)))\n",
        "    model.add(MaxPooling2D((2, 2)))\n",
        "\n",
        "    model.add(Conv2D(64, (3, 3), activation='relu'))\n",
        "    model.add(MaxPooling2D((2, 2)))\n",
        "\n",
        "    model.add(Conv2D(64, (3, 3), activation='relu'))\n",
        "    model.add(MaxPooling2D((2, 2)))\n",
        "\n",
        "    model.add(Flatten())\n",
        "    model.add(Dense(64, activation='relu', kernel_regularizer=tf.keras.regularizers.l1_l2(l1=1e-5, l2=1e-4)))\n",
        "    model.add(Dropout(0.5)) #to reduce overfitting\n",
        "\n",
        "model.add(Dense(4, activation='softmax'))\n",
        "\n",
        "model.compile(optimizer=Adam(lr=1e-4),\n",
        "              loss=tf.keras.losses.CategoricalCrossentropy(from_logits=True),\n",
        "              metrics=['accuracy'])\n",
        "model.summary()"
      ],
      "execution_count": null,
      "outputs": [
        {
          "output_type": "stream",
          "text": [
            "Model: \"sequential_16\"\n",
            "_________________________________________________________________\n",
            "Layer (type)                 Output Shape              Param #   \n",
            "=================================================================\n",
            "conv2d_45 (Conv2D)           (None, 62, 62, 32)        896       \n",
            "_________________________________________________________________\n",
            "max_pooling2d_33 (MaxPooling (None, 31, 31, 32)        0         \n",
            "_________________________________________________________________\n",
            "conv2d_46 (Conv2D)           (None, 29, 29, 64)        18496     \n",
            "_________________________________________________________________\n",
            "max_pooling2d_34 (MaxPooling (None, 14, 14, 64)        0         \n",
            "_________________________________________________________________\n",
            "conv2d_47 (Conv2D)           (None, 12, 12, 64)        36928     \n",
            "_________________________________________________________________\n",
            "max_pooling2d_35 (MaxPooling (None, 6, 6, 64)          0         \n",
            "_________________________________________________________________\n",
            "flatten_16 (Flatten)         (None, 2304)              0         \n",
            "_________________________________________________________________\n",
            "dense_31 (Dense)             (None, 64)                147520    \n",
            "_________________________________________________________________\n",
            "dropout_8 (Dropout)          (None, 64)                0         \n",
            "_________________________________________________________________\n",
            "dense_32 (Dense)             (None, 4)                 260       \n",
            "=================================================================\n",
            "Total params: 204,100\n",
            "Trainable params: 204,100\n",
            "Non-trainable params: 0\n",
            "_________________________________________________________________\n"
          ],
          "name": "stdout"
        }
      ]
    },
    {
      "cell_type": "markdown",
      "metadata": {
        "id": "HKPIyw5TAKdW"
      },
      "source": [
        "##3.a) Training for Diagnosis Type"
      ]
    },
    {
      "cell_type": "code",
      "metadata": {
        "colab": {
          "base_uri": "https://localhost:8080/"
        },
        "id": "v3Qua69HaJrN",
        "outputId": "17df13e8-6bc2-41a3-c135-55067eada345"
      },
      "source": [
        "#Running the Model\n",
        "STEP_SIZE_TRAIN=train_generator_diagnosis.n//train_generator_diagnosis.batch_size\n",
        "STEP_SIZE_VALID=valid_generator_diagnosis.n//valid_generator_diagnosis.batch_size\n",
        "\n",
        "#Creating our checkpoints\n",
        "learn_control = ReduceLROnPlateau(monitor='val_accuracy', patience=3,\n",
        "                                  verbose=1, factor=0.2, min_lr=1e-7)\n",
        "\n",
        "filepath=\"diagnosis_model.h5\"\n",
        "checkpoint_diagnosis = ModelCheckpoint(filepath, monitor='val_accuracy', \n",
        "                                       verbose=1, save_best_only=True, mode='max')\n",
        "\n",
        "early_stopping = EarlyStopping(monitor=\"val_accuracy\", patience=4,\n",
        "                               min_delta=0, verbose=1, mode=\"auto\")\n",
        "\n",
        "diagnosis = model.fit_generator(generator=train_generator_diagnosis,\n",
        "                                steps_per_epoch=STEP_SIZE_TRAIN,\n",
        "                                epochs=20,\n",
        "                                validation_data=valid_generator_diagnosis,\n",
        "                                validation_steps=STEP_SIZE_VALID,\n",
        "                                callbacks=[learn_control, checkpoint_diagnosis, early_stopping],\n",
        "                                verbose=1)"
      ],
      "execution_count": null,
      "outputs": [
        {
          "output_type": "stream",
          "text": [
            "/usr/local/lib/python3.7/dist-packages/tensorflow/python/keras/engine/training.py:1844: UserWarning: `Model.fit_generator` is deprecated and will be removed in a future version. Please use `Model.fit`, which supports generators.\n",
            "  warnings.warn('`Model.fit_generator` is deprecated and '\n"
          ],
          "name": "stderr"
        },
        {
          "output_type": "stream",
          "text": [
            "Epoch 1/20\n",
            "250/250 [==============================] - 99s 396ms/step - loss: 1.0101 - accuracy: 0.6263 - val_loss: 0.4853 - val_accuracy: 0.8669\n",
            "\n",
            "Epoch 00001: val_accuracy improved from -inf to 0.86694, saving model to diagnosis_model.h5\n",
            "Epoch 2/20\n",
            "250/250 [==============================] - 98s 394ms/step - loss: 0.5560 - accuracy: 0.8403 - val_loss: 0.4620 - val_accuracy: 0.8725\n",
            "\n",
            "Epoch 00002: val_accuracy improved from 0.86694 to 0.87248, saving model to diagnosis_model.h5\n",
            "Epoch 3/20\n",
            "250/250 [==============================] - 99s 396ms/step - loss: 0.4798 - accuracy: 0.8692 - val_loss: 0.4757 - val_accuracy: 0.8664\n",
            "\n",
            "Epoch 00003: val_accuracy did not improve from 0.87248\n",
            "Epoch 4/20\n",
            "250/250 [==============================] - 98s 394ms/step - loss: 0.4867 - accuracy: 0.8624 - val_loss: 0.4209 - val_accuracy: 0.8861\n",
            "\n",
            "Epoch 00004: val_accuracy improved from 0.87248 to 0.88609, saving model to diagnosis_model.h5\n",
            "Epoch 5/20\n",
            "250/250 [==============================] - 99s 396ms/step - loss: 0.4625 - accuracy: 0.8635 - val_loss: 0.4453 - val_accuracy: 0.8730\n",
            "\n",
            "Epoch 00005: val_accuracy did not improve from 0.88609\n",
            "Epoch 6/20\n",
            "250/250 [==============================] - 99s 397ms/step - loss: 0.4488 - accuracy: 0.8741 - val_loss: 0.4202 - val_accuracy: 0.8821\n",
            "\n",
            "Epoch 00006: val_accuracy did not improve from 0.88609\n",
            "Epoch 7/20\n",
            "250/250 [==============================] - 99s 394ms/step - loss: 0.4368 - accuracy: 0.8750 - val_loss: 0.4159 - val_accuracy: 0.8856\n",
            "\n",
            "Epoch 00007: ReduceLROnPlateau reducing learning rate to 1.9999999494757503e-05.\n",
            "\n",
            "Epoch 00007: val_accuracy did not improve from 0.88609\n",
            "Epoch 8/20\n",
            "250/250 [==============================] - 99s 395ms/step - loss: 0.4359 - accuracy: 0.8769 - val_loss: 0.4496 - val_accuracy: 0.8750\n",
            "\n",
            "Epoch 00008: val_accuracy did not improve from 0.88609\n",
            "Epoch 00008: early stopping\n"
          ],
          "name": "stdout"
        }
      ]
    },
    {
      "cell_type": "code",
      "metadata": {
        "id": "4QKltzi9LaLh",
        "colab": {
          "base_uri": "https://localhost:8080/",
          "height": 462
        },
        "outputId": "f9e29007-835e-4cb9-804f-58ce8ffeb916"
      },
      "source": [
        "#Creating plots\n",
        "fig, (ax1, ax2) = plt.subplots(1, 2, figsize=(14,7))\n",
        "\n",
        "ax1.plot(diagnosis.history['loss'], label='Training Data')\n",
        "ax1.plot(diagnosis.history['val_loss'], label='Validation Data)')\n",
        "ax1.set_title('Loss Function', fontsize=14)\n",
        "ax1.set_ylabel('CategoricalCrossEntropy Loss', fontsize=12)\n",
        "ax1.set_xlabel('No. epoch', fontsize=12)\n",
        "ax1.legend(loc=\"upper right\", fontsize=11)\n",
        "\n",
        "ax2.plot([100*i for i in diagnosis.history['accuracy']], label='Training Data')\n",
        "ax2.plot([100*i for i in diagnosis.history['val_accuracy']], label='Validation Data)')\n",
        "ax2.set_title('Accuracy', fontsize=14)\n",
        "ax2.set_ylabel('Accuracy (%)', fontsize=12)\n",
        "ax2.set_xlabel('No. epoch', fontsize=12)\n",
        "ax2.legend(loc=\"upper left\", fontsize=11)\n",
        "\n",
        "#plt.savefig(\"Model_plots.png\", bbox_inches=\"tight\", dpi=200)\n",
        "plt.show()"
      ],
      "execution_count": null,
      "outputs": [
        {
          "output_type": "display_data",
          "data": {
            "image/png": "[encoded data removed]",
            "text/plain": [
              "<Figure size 1008x504 with 2 Axes>"
            ]
          },
          "metadata": {
            "tags": [],
            "needs_background": "light"
          }
        }
      ]
    },
    {
      "cell_type": "markdown",
      "metadata": {
        "id": "rCIsKm2DARYc"
      },
      "source": [
        "##2.b) Creating the Model for Cancer Type"
      ]
    },
    {
      "cell_type": "code",
      "metadata": {
        "id": "WbnxSFU_VRM2",
        "colab": {
          "base_uri": "https://localhost:8080/"
        },
        "outputId": "cd42cbce-3222-4351-8fe2-33054cdc6cb4"
      },
      "source": [
        "#Whether we want to use the pre-trained model or not\n",
        "pre_trained = False\n",
        "\n",
        "#Building the model\n",
        "model_canc = Sequential()\n",
        "\n",
        "if pre_trained:\n",
        "    model_canc.add(base_model)\n",
        "    model_canc.add(GlobalAveragePooling2D())\n",
        "    model_canc.add(Dropout(0.5)) #to reduce overfitting\n",
        "    model_canc.add(BatchNormalization())\n",
        "else:\n",
        "    model_canc.add(Conv2D(64, (3, 3), padding=\"same\", activation='relu', input_shape=(IMG_SIZE, IMG_SIZE, 3)))\n",
        "    model_canc.add(MaxPooling2D((2, 2)))\n",
        "\n",
        "    model_canc.add(Conv2D(128, (3, 3), padding=\"same\", activation='relu'))\n",
        "    model_canc.add(MaxPooling2D((2, 2)))\n",
        "\n",
        "    model_canc.add(Conv2D(128, (3, 3), padding=\"same\", activation='relu'))\n",
        "    model_canc.add(MaxPooling2D((2, 2)))\n",
        "\n",
        "    #model_canc.add(Conv2D(128, (3, 3), padding=\"same\", activation='relu'))\n",
        "    #model_canc.add(MaxPooling2D((2, 2)))\n",
        "\n",
        "    model_canc.add(Flatten())\n",
        "    model_canc.add(Dense(256, activation='relu'))\n",
        "    model_canc.add(Dense(64, activation='relu'))\n",
        "\n",
        "model_canc.add(Dense(7, activation='softmax'))\n",
        "\n",
        "model_canc.compile(optimizer=Adam(lr=1e-4),\n",
        "                   loss=tf.keras.losses.CategoricalCrossentropy(from_logits=True),\n",
        "                   metrics=['accuracy'])\n",
        "model_canc.build((None,IMG_SIZE, IMG_SIZE, 3))\n",
        "model_canc.summary()"
      ],
      "execution_count": null,
      "outputs": [
        {
          "output_type": "stream",
          "text": [
            "Model: \"sequential_6\"\n",
            "_________________________________________________________________\n",
            "Layer (type)                 Output Shape              Param #   \n",
            "=================================================================\n",
            "conv2d_18 (Conv2D)           (None, 64, 64, 64)        1792      \n",
            "_________________________________________________________________\n",
            "max_pooling2d_12 (MaxPooling (None, 32, 32, 64)        0         \n",
            "_________________________________________________________________\n",
            "conv2d_19 (Conv2D)           (None, 32, 32, 128)       73856     \n",
            "_________________________________________________________________\n",
            "max_pooling2d_13 (MaxPooling (None, 16, 16, 128)       0         \n",
            "_________________________________________________________________\n",
            "conv2d_20 (Conv2D)           (None, 16, 16, 128)       147584    \n",
            "_________________________________________________________________\n",
            "max_pooling2d_14 (MaxPooling (None, 8, 8, 128)         0         \n",
            "_________________________________________________________________\n",
            "flatten_6 (Flatten)          (None, 8192)              0         \n",
            "_________________________________________________________________\n",
            "dense_12 (Dense)             (None, 256)               2097408   \n",
            "_________________________________________________________________\n",
            "dense_13 (Dense)             (None, 64)                16448     \n",
            "_________________________________________________________________\n",
            "dense_14 (Dense)             (None, 7)                 455       \n",
            "=================================================================\n",
            "Total params: 2,337,543\n",
            "Trainable params: 2,337,543\n",
            "Non-trainable params: 0\n",
            "_________________________________________________________________\n"
          ],
          "name": "stdout"
        }
      ]
    },
    {
      "cell_type": "markdown",
      "metadata": {
        "id": "gC1QhGJ6AdDz"
      },
      "source": [
        "##3.b) Training the Model for Cancer Type"
      ]
    },
    {
      "cell_type": "code",
      "metadata": {
        "colab": {
          "base_uri": "https://localhost:8080/"
        },
        "id": "MhfBpp3DaT2U",
        "outputId": "4a842c44-54ab-45c1-e897-c75cf0f3be1c"
      },
      "source": [
        "#Running the Model\n",
        "STEP_SIZE_TRAIN_CANC=train_generator_canc.n//train_generator_canc.batch_size\n",
        "STEP_SIZE_VALID_CANC=valid_generator_canc.n//valid_generator_canc.batch_size\n",
        "\n",
        "filepath_cancer=\"cancer_model.h5\"\n",
        "checkpoint_cancer = ModelCheckpoint(filepath_cancer, monitor='val_accuracy', \n",
        "                                    verbose=1, save_best_only=True, mode='max')\n",
        "\n",
        "learn_control = ReduceLROnPlateau(monitor='val_accuracy', patience=3,\n",
        "                                  verbose=1, factor=0.2, min_lr=1e-7)\n",
        "\n",
        "early_stopping = EarlyStopping(monitor=\"val_accuracy\", patience=4,\n",
        "                               min_delta=0, verbose=1, mode=\"auto\")\n",
        "\n",
        "cancer = model_canc.fit_generator(generator=train_generator_canc,\n",
        "                                  steps_per_epoch=STEP_SIZE_TRAIN_CANC,\n",
        "                                  epochs=50,\n",
        "                                  validation_data=valid_generator_canc,\n",
        "                                  validation_steps=STEP_SIZE_VALID_CANC,\n",
        "                                  callbacks=[learn_control, checkpoint_cancer, early_stopping],\n",
        "                                  verbose=1)"
      ],
      "execution_count": null,
      "outputs": [
        {
          "output_type": "stream",
          "text": [
            "/usr/local/lib/python3.7/dist-packages/tensorflow/python/keras/engine/training.py:1844: UserWarning: `Model.fit_generator` is deprecated and will be removed in a future version. Please use `Model.fit`, which supports generators.\n",
            "  warnings.warn('`Model.fit_generator` is deprecated and '\n"
          ],
          "name": "stderr"
        },
        {
          "output_type": "stream",
          "text": [
            "Epoch 1/50\n",
            "250/250 [==============================] - 101s 400ms/step - loss: 1.2187 - accuracy: 0.6354 - val_loss: 0.9639 - val_accuracy: 0.6855\n",
            "\n",
            "Epoch 00001: val_accuracy improved from -inf to 0.68548, saving model to cancer_model.h5\n",
            "Epoch 2/50\n",
            "250/250 [==============================] - 100s 399ms/step - loss: 1.0261 - accuracy: 0.6590 - val_loss: 0.8763 - val_accuracy: 0.6855\n",
            "\n",
            "Epoch 00002: val_accuracy did not improve from 0.68548\n",
            "Epoch 3/50\n",
            "250/250 [==============================] - 99s 396ms/step - loss: 0.9394 - accuracy: 0.6631 - val_loss: 0.8451 - val_accuracy: 0.6875\n",
            "\n",
            "Epoch 00003: val_accuracy improved from 0.68548 to 0.68750, saving model to cancer_model.h5\n",
            "Epoch 4/50\n",
            "250/250 [==============================] - 99s 398ms/step - loss: 0.9045 - accuracy: 0.6696 - val_loss: 0.8085 - val_accuracy: 0.7051\n",
            "\n",
            "Epoch 00004: val_accuracy improved from 0.68750 to 0.70514, saving model to cancer_model.h5\n",
            "Epoch 5/50\n",
            "250/250 [==============================] - 100s 400ms/step - loss: 0.8733 - accuracy: 0.6793 - val_loss: 0.8017 - val_accuracy: 0.7258\n",
            "\n",
            "Epoch 00005: val_accuracy improved from 0.70514 to 0.72581, saving model to cancer_model.h5\n",
            "Epoch 6/50\n",
            "250/250 [==============================] - 99s 397ms/step - loss: 0.8532 - accuracy: 0.6883 - val_loss: 0.7961 - val_accuracy: 0.7112\n",
            "\n",
            "Epoch 00006: val_accuracy did not improve from 0.72581\n",
            "Epoch 7/50\n",
            "250/250 [==============================] - 99s 398ms/step - loss: 0.8371 - accuracy: 0.6803 - val_loss: 0.7555 - val_accuracy: 0.7308\n",
            "\n",
            "Epoch 00007: val_accuracy improved from 0.72581 to 0.73085, saving model to cancer_model.h5\n",
            "Epoch 8/50\n",
            "250/250 [==============================] - 99s 395ms/step - loss: 0.8197 - accuracy: 0.6951 - val_loss: 0.7326 - val_accuracy: 0.7445\n",
            "\n",
            "Epoch 00008: val_accuracy improved from 0.73085 to 0.74446, saving model to cancer_model.h5\n",
            "Epoch 9/50\n",
            "250/250 [==============================] - 99s 396ms/step - loss: 0.7339 - accuracy: 0.7199 - val_loss: 0.6915 - val_accuracy: 0.7485\n",
            "\n",
            "Epoch 00009: val_accuracy improved from 0.74446 to 0.74849, saving model to cancer_model.h5\n",
            "Epoch 10/50\n",
            "250/250 [==============================] - 100s 398ms/step - loss: 0.7592 - accuracy: 0.7168 - val_loss: 0.6982 - val_accuracy: 0.7339\n",
            "\n",
            "Epoch 00010: val_accuracy did not improve from 0.74849\n",
            "Epoch 11/50\n",
            "250/250 [==============================] - 99s 396ms/step - loss: 0.7267 - accuracy: 0.7312 - val_loss: 0.7126 - val_accuracy: 0.7455\n",
            "\n",
            "Epoch 00011: val_accuracy did not improve from 0.74849\n",
            "Epoch 12/50\n",
            "250/250 [==============================] - 99s 398ms/step - loss: 0.7226 - accuracy: 0.7276 - val_loss: 0.6901 - val_accuracy: 0.7324\n",
            "\n",
            "Epoch 00012: ReduceLROnPlateau reducing learning rate to 1.9999999494757503e-05.\n",
            "\n",
            "Epoch 00012: val_accuracy did not improve from 0.74849\n",
            "Epoch 13/50\n",
            "250/250 [==============================] - 99s 398ms/step - loss: 0.7007 - accuracy: 0.7300 - val_loss: 0.6302 - val_accuracy: 0.7626\n",
            "\n",
            "Epoch 00013: val_accuracy improved from 0.74849 to 0.76260, saving model to cancer_model.h5\n",
            "Epoch 14/50\n",
            "250/250 [==============================] - 98s 394ms/step - loss: 0.6734 - accuracy: 0.7524 - val_loss: 0.6292 - val_accuracy: 0.7631\n",
            "\n",
            "Epoch 00014: val_accuracy improved from 0.76260 to 0.76310, saving model to cancer_model.h5\n",
            "Epoch 15/50\n",
            "250/250 [==============================] - 99s 398ms/step - loss: 0.6907 - accuracy: 0.7407 - val_loss: 0.6316 - val_accuracy: 0.7576\n",
            "\n",
            "Epoch 00015: val_accuracy did not improve from 0.76310\n",
            "Epoch 16/50\n",
            "250/250 [==============================] - 99s 396ms/step - loss: 0.6647 - accuracy: 0.7566 - val_loss: 0.6373 - val_accuracy: 0.7636\n",
            "\n",
            "Epoch 00016: val_accuracy improved from 0.76310 to 0.76361, saving model to cancer_model.h5\n",
            "Epoch 17/50\n",
            "250/250 [==============================] - 98s 393ms/step - loss: 0.6644 - accuracy: 0.7530 - val_loss: 0.6383 - val_accuracy: 0.7586\n",
            "\n",
            "Epoch 00017: val_accuracy did not improve from 0.76361\n",
            "Epoch 18/50\n",
            "250/250 [==============================] - 99s 397ms/step - loss: 0.6567 - accuracy: 0.7545 - val_loss: 0.6388 - val_accuracy: 0.7596\n",
            "\n",
            "Epoch 00018: val_accuracy did not improve from 0.76361\n",
            "Epoch 19/50\n",
            "250/250 [==============================] - 99s 396ms/step - loss: 0.6473 - accuracy: 0.7632 - val_loss: 0.6131 - val_accuracy: 0.7661\n",
            "\n",
            "Epoch 00019: val_accuracy improved from 0.76361 to 0.76613, saving model to cancer_model.h5\n",
            "Epoch 20/50\n",
            "250/250 [==============================] - 98s 393ms/step - loss: 0.6594 - accuracy: 0.7500 - val_loss: 0.6116 - val_accuracy: 0.7676\n",
            "\n",
            "Epoch 00020: val_accuracy improved from 0.76613 to 0.76764, saving model to cancer_model.h5\n",
            "Epoch 21/50\n",
            "250/250 [==============================] - 99s 396ms/step - loss: 0.6528 - accuracy: 0.7576 - val_loss: 0.6128 - val_accuracy: 0.7626\n",
            "\n",
            "Epoch 00021: val_accuracy did not improve from 0.76764\n",
            "Epoch 22/50\n",
            "250/250 [==============================] - 99s 398ms/step - loss: 0.6636 - accuracy: 0.7478 - val_loss: 0.6203 - val_accuracy: 0.7651\n",
            "\n",
            "Epoch 00022: val_accuracy did not improve from 0.76764\n",
            "Epoch 23/50\n",
            "250/250 [==============================] - 99s 395ms/step - loss: 0.6336 - accuracy: 0.7580 - val_loss: 0.6191 - val_accuracy: 0.7661\n",
            "\n",
            "Epoch 00023: ReduceLROnPlateau reducing learning rate to 3.999999898951501e-06.\n",
            "\n",
            "Epoch 00023: val_accuracy did not improve from 0.76764\n",
            "Epoch 24/50\n",
            "250/250 [==============================] - 99s 396ms/step - loss: 0.6649 - accuracy: 0.7537 - val_loss: 0.6089 - val_accuracy: 0.7707\n",
            "\n",
            "Epoch 00024: val_accuracy improved from 0.76764 to 0.77067, saving model to cancer_model.h5\n",
            "Epoch 25/50\n",
            "250/250 [==============================] - 99s 397ms/step - loss: 0.6463 - accuracy: 0.7574 - val_loss: 0.6188 - val_accuracy: 0.7671\n",
            "\n",
            "Epoch 00025: val_accuracy did not improve from 0.77067\n",
            "Epoch 26/50\n",
            "250/250 [==============================] - 99s 395ms/step - loss: 0.6418 - accuracy: 0.7604 - val_loss: 0.6152 - val_accuracy: 0.7671\n",
            "\n",
            "Epoch 00026: val_accuracy did not improve from 0.77067\n",
            "Epoch 27/50\n",
            "250/250 [==============================] - 99s 395ms/step - loss: 0.6413 - accuracy: 0.7554 - val_loss: 0.6112 - val_accuracy: 0.7676\n",
            "\n",
            "Epoch 00027: ReduceLROnPlateau reducing learning rate to 7.999999979801942e-07.\n",
            "\n",
            "Epoch 00027: val_accuracy did not improve from 0.77067\n",
            "Epoch 28/50\n",
            "250/250 [==============================] - 100s 399ms/step - loss: 0.6483 - accuracy: 0.7570 - val_loss: 0.6138 - val_accuracy: 0.7702\n",
            "\n",
            "Epoch 00028: val_accuracy did not improve from 0.77067\n",
            "Epoch 00028: early stopping\n"
          ],
          "name": "stdout"
        }
      ]
    },
    {
      "cell_type": "code",
      "metadata": {
        "id": "q_MPuoJnfjCn"
      },
      "source": [
        "#Evaluating our model\n",
        "model_canc.evaluate_generator(train_generator_canc,verbose=1)"
      ],
      "execution_count": null,
      "outputs": []
    },
    {
      "cell_type": "code",
      "metadata": {
        "id": "WrNj0q9UYMGI"
      },
      "source": [
        "#Training more from the saved model\n",
        "from keras.models import load_model\n",
        "\n",
        "canc_loaded = load_model(\"/content/cancer_model.h5\")\n",
        "cancer = canc_loaded.fit_generator(generator=train_generator_canc,\n",
        "                                  steps_per_epoch=STEP_SIZE_TRAIN_CANC,\n",
        "                                  epochs=30,\n",
        "                                  validation_data=valid_generator_canc,\n",
        "                                  validation_steps=STEP_SIZE_VALID_CANC,\n",
        "                                  callbacks=[learn_control, checkpoint_cancer, early_stopping],\n",
        "                                  verbose=1)"
      ],
      "execution_count": null,
      "outputs": []
    },
    {
      "cell_type": "markdown",
      "metadata": {
        "id": "X_qEkBAJwGUY"
      },
      "source": [
        "##4. Evaluating the Model"
      ]
    },
    {
      "cell_type": "markdown",
      "metadata": {
        "id": "yMB4YNSlAlM6"
      },
      "source": [
        "###Plotting the results of our cancer type training so we can visualise our progress better."
      ]
    },
    {
      "cell_type": "code",
      "metadata": {
        "colab": {
          "base_uri": "https://localhost:8080/",
          "height": 462
        },
        "id": "D441xE95max3",
        "outputId": "4121058b-8375-4cc6-95ce-80c764074ebd"
      },
      "source": [
        "#Creating plots\n",
        "fig, (ax1, ax2) = plt.subplots(1, 2, figsize=(14,7))\n",
        "\n",
        "ax1.plot(cancer.history['loss'], label='Training Data')\n",
        "ax1.plot(cancer.history['val_loss'], label='Validation Data)')\n",
        "ax1.set_title('Loss Function', fontsize=14)\n",
        "ax1.set_ylabel('CategoricalCrossEntropy Loss', fontsize=12)\n",
        "ax1.set_xlabel('No. epoch', fontsize=12)\n",
        "ax1.legend(loc=\"upper right\", fontsize=11)\n",
        "\n",
        "ax2.plot([100*i for i in cancer.history['accuracy']], label='Training Data')\n",
        "ax2.plot([100*i for i in cancer.history['val_accuracy']], label='Validation Data)')\n",
        "ax2.set_title('Accuracy', fontsize=14)\n",
        "ax2.set_ylabel('Accuracy (%)', fontsize=12)\n",
        "ax2.set_xlabel('No. epoch', fontsize=12)\n",
        "ax2.legend(loc=\"upper left\", fontsize=11)\n",
        "\n",
        "plt.savefig(\"Model_plots.png\", bbox_inches=\"tight\", dpi=200)\n",
        "plt.show()"
      ],
      "execution_count": null,
      "outputs": [
        {
          "output_type": "display_data",
          "data": {
            "image/png": "[encoded data removed]",
            "text/plain": [
              "<Figure size 1008x504 with 2 Axes>"
            ]
          },
          "metadata": {
            "tags": [],
            "needs_background": "light"
          }
        }
      ]
    },
    {
      "cell_type": "code",
      "metadata": {
        "id": "_L19X4YWW19Z"
      },
      "source": [
        "#Finding values for confusion matrix\n",
        "import math\n",
        "number_of_generator_calls = math.ceil(STEP_SIZE_VALID_CANC+1) \n",
        "# 1.0 above is to skip integer division\n",
        "\n",
        "valid_labels = []\n",
        "\n",
        "for i in range(0,int(number_of_generator_calls)):\n",
        "    valid_labels.extend(np.array(valid_generator_canc[i][1]))\n",
        "\n",
        "#Converting one-hot encoding to integers\n",
        "y_true = [np.where(r==1)[0][0] for r in valid_labels]"
      ],
      "execution_count": null,
      "outputs": []
    },
    {
      "cell_type": "code",
      "metadata": {
        "colab": {
          "base_uri": "https://localhost:8080/"
        },
        "id": "jFbXS9JSj5by",
        "outputId": "3137aead-23f3-4e92-db25-39f7960d556a"
      },
      "source": [
        "from sklearn.metrics import confusion_matrix, multilabel_confusion_matrix\n",
        "\n",
        "#Creating our confusion matrix\n",
        "#Confution Matrix and Classification Report\n",
        "Y_pred = model_canc.predict_generator(valid_generator_canc, STEP_SIZE_VALID_CANC+1)\n",
        "y_pred = np.argmax(Y_pred, axis=1)\n",
        "print('Confusion Matrix')\n",
        "#print(confusion_matrix(y_true, y_pred))\n",
        "conf = confusion_matrix(y_true,y_pred)"
      ],
      "execution_count": null,
      "outputs": [
        {
          "output_type": "stream",
          "text": [
            "/usr/local/lib/python3.7/dist-packages/keras/engine/training.py:1976: UserWarning: `Model.predict_generator` is deprecated and will be removed in a future version. Please use `Model.predict`, which supports generators.\n",
            "  warnings.warn('`Model.predict_generator` is deprecated and '\n"
          ],
          "name": "stderr"
        },
        {
          "output_type": "stream",
          "text": [
            "Confusion Matrix\n"
          ],
          "name": "stdout"
        }
      ]
    },
    {
      "cell_type": "code",
      "metadata": {
        "id": "jynxH94MmS8i"
      },
      "source": [
        "import itertools\n",
        "def confusion_matrix_plot(cm,\n",
        "                          target_names,\n",
        "                          title='Confusion matrix',\n",
        "                          cmap=None,\n",
        "                          normalize=True):\n",
        "    \"\"\"\n",
        "    given a sklearn confusion matrix (cm), make a nice plot\n",
        "\n",
        "    Arguments\n",
        "    ---------\n",
        "    cm:           confusion matrix from sklearn.metrics.confusion_matrix\n",
        "\n",
        "    target_names: given classification classes such as [0, 1, 2]\n",
        "                  the class names, for example: ['high', 'medium', 'low']\n",
        "\n",
        "    title:        the text to display at the top of the matrix\n",
        "\n",
        "    cmap:         the gradient of the values displayed from matplotlib.pyplot.cm\n",
        "                  see http://matplotlib.org/examples/color/colormaps_reference.html\n",
        "                  plt.get_cmap('jet') or plt.cm.Blues\n",
        "\n",
        "    normalize:    If False, plot the raw numbers\n",
        "                  If True, plot the proportions\n",
        "\n",
        "    Usage\n",
        "    -----\n",
        "    plot_confusion_matrix(cm           = cm,                  # confusion matrix created by\n",
        "                                                              # sklearn.metrics.confusion_matrix\n",
        "                          normalize    = True,                # show proportions\n",
        "                          target_names = y_labels_vals,       # list of names of the classes\n",
        "                          title        = best_estimator_name) # title of graph\n",
        "\n",
        "    Citiation\n",
        "    ---------\n",
        "    http://scikit-learn.org/stable/auto_examples/model_selection/plot_confusion_matrix.html\n",
        "\n",
        "    \"\"\"\n",
        "\n",
        "    accuracy = np.trace(cm) / float(np.sum(cm))\n",
        "    misclass = 1 - accuracy\n",
        "\n",
        "    if cmap is None:\n",
        "        cmap = plt.get_cmap('Blues')\n",
        "\n",
        "    plt.figure(figsize=(8, 6))\n",
        "    plt.imshow(cm, interpolation='nearest', cmap=cmap)\n",
        "    plt.title(title)\n",
        "    plt.colorbar()\n",
        "\n",
        "    if target_names is not None:\n",
        "        tick_marks = np.arange(len(target_names))\n",
        "        plt.xticks(tick_marks, target_names, rotation=45)\n",
        "        plt.yticks(tick_marks, target_names)\n",
        "\n",
        "    if normalize:\n",
        "        cm = cm.astype('float') / cm.sum(axis=1)[:, np.newaxis]\n",
        "\n",
        "\n",
        "    thresh = cm.max() / 1.5 if normalize else cm.max() / 2\n",
        "    for i, j in itertools.product(range(cm.shape[0]), range(cm.shape[1])):\n",
        "        if normalize:\n",
        "            plt.text(j, i, \"{:0.4f}\".format(cm[i, j]),\n",
        "                     horizontalalignment=\"center\",\n",
        "                     color=\"white\" if cm[i, j] > thresh else \"black\")\n",
        "        else:\n",
        "            plt.text(j, i, \"{:,}\".format(cm[i, j]),\n",
        "                     horizontalalignment=\"center\",\n",
        "                     color=\"white\" if cm[i, j] > thresh else \"black\")\n",
        "\n",
        "\n",
        "    plt.tight_layout()\n",
        "    plt.ylabel('True label')\n",
        "    plt.xlabel('Predicted label\\naccuracy={:0.4f}; misclass={:0.4f}'.format(accuracy, misclass))\n",
        "    plt.savefig(\"Confusion_Matrix.png\",bbox_inches=\"tight\",dpi=200)\n",
        "    plt.show()"
      ],
      "execution_count": null,
      "outputs": []
    },
    {
      "cell_type": "code",
      "metadata": {
        "colab": {
          "base_uri": "https://localhost:8080/",
          "height": 467
        },
        "id": "YYC-dBxGcJ_w",
        "outputId": "48ee919f-fa5e-4b66-ecf4-208f169ad497"
      },
      "source": [
        "#Plotting confusion matrix\n",
        "confusion_matrix_plot(conf,target_names=column_names,normalize=False)"
      ],
      "execution_count": null,
      "outputs": [
        {
          "output_type": "display_data",
          "data": {
            "image/png": "[encoded data removed]",
            "text/plain": [
              "<Figure size 576x432 with 2 Axes>"
            ]
          },
          "metadata": {
            "tags": [],
            "needs_background": "light"
          }
        }
      ]
    },
    {
      "cell_type": "code",
      "metadata": {
        "id": "un4kR6mNHy5V"
      },
      "source": [
        "while True:\n",
        "    pass"
      ],
      "execution_count": null,
      "outputs": []
    }
  ]
}